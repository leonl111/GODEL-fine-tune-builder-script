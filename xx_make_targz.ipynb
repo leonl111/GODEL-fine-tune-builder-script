{
 "cells": [
  {
   "cell_type": "code",
   "execution_count": 1,
   "metadata": {},
   "outputs": [
    {
     "name": "stderr",
     "output_type": "stream",
     "text": [
      "Found cached dataset json (C:/Users/Leon/.cache/huggingface/datasets/liam168___json/liam168--dstc9-1ccf56cad8a229ef/0.0.0/fe5dd6ea2639a6df622901539cb550cf8797e5a6b2dd7af1cf934bed8e233e6e)\n"
     ]
    },
    {
     "data": {
      "application/vnd.jupyter.widget-view+json": {
       "model_id": "ba85db556c994f7bbd8cfbad412f8123",
       "version_major": 2,
       "version_minor": 0
      },
      "text/plain": [
       "  0%|          | 0/3 [00:00<?, ?it/s]"
      ]
     },
     "metadata": {},
     "output_type": "display_data"
    },
    {
     "data": {
      "text/plain": [
       "DatasetDict({\n",
       "    train: Dataset({\n",
       "        features: ['Context', 'Knowledge', 'Response'],\n",
       "        num_rows: 501\n",
       "    })\n",
       "    test: Dataset({\n",
       "        features: ['Context', 'Knowledge', 'Response'],\n",
       "        num_rows: 501\n",
       "    })\n",
       "    validation: Dataset({\n",
       "        features: ['Context', 'Knowledge', 'Response'],\n",
       "        num_rows: 501\n",
       "    })\n",
       "})"
      ]
     },
     "execution_count": 1,
     "metadata": {},
     "output_type": "execute_result"
    }
   ],
   "source": [
    "from datasets import load_dataset\n",
    "\n",
    "dataset = load_dataset(\"liam168/dstc9\")\n",
    "dataset"
   ]
  },
  {
   "cell_type": "code",
   "execution_count": 2,
   "metadata": {},
   "outputs": [],
   "source": [
    "train_dataset = dataset['train'].to_pandas()\n",
    "test_dataset = dataset['test'].to_pandas()\n",
    "validation_dataset = dataset['validation'].to_pandas()"
   ]
  },
  {
   "cell_type": "code",
   "execution_count": 3,
   "metadata": {
    "scrolled": true
   },
   "outputs": [
    {
     "data": {
      "text/html": [
       "<div>\n",
       "<style scoped>\n",
       "    .dataframe tbody tr th:only-of-type {\n",
       "        vertical-align: middle;\n",
       "    }\n",
       "\n",
       "    .dataframe tbody tr th {\n",
       "        vertical-align: top;\n",
       "    }\n",
       "\n",
       "    .dataframe thead th {\n",
       "        text-align: right;\n",
       "    }\n",
       "</style>\n",
       "<table border=\"1\" class=\"dataframe\">\n",
       "  <thead>\n",
       "    <tr style=\"text-align: right;\">\n",
       "      <th></th>\n",
       "      <th>Context</th>\n",
       "      <th>Knowledge</th>\n",
       "      <th>Response</th>\n",
       "    </tr>\n",
       "  </thead>\n",
       "  <tbody>\n",
       "    <tr>\n",
       "      <th>0</th>\n",
       "      <td>I need information on a hotel that includes fr...</td>\n",
       "      <td>Q: Which credit cards do you accept for paymen...</td>\n",
       "      <td>Yes, it does accept Master card as payment? Wo...</td>\n",
       "    </tr>\n",
       "    <tr>\n",
       "      <th>1</th>\n",
       "      <td>Can you find a restaurant for me that is south...</td>\n",
       "      <td>Q: Do you have delivery? A: There is no delive...</td>\n",
       "      <td>This restaurant does not have any delivery opt...</td>\n",
       "    </tr>\n",
       "    <tr>\n",
       "      <th>2</th>\n",
       "      <td>I need to book a hotel.  I need it to be in th...</td>\n",
       "      <td>Q: Are children allowed at your location. A: Y...</td>\n",
       "      <td>Yes, University Arms Hotel allows children to ...</td>\n",
       "    </tr>\n",
       "    <tr>\n",
       "      <th>3</th>\n",
       "      <td>Hi, can you help me find an upscale restaurant...</td>\n",
       "      <td>Q: What kind of security deposit do you ask fo...</td>\n",
       "      <td>Yes. Gonville Hotel requires a deposit of GBP ...</td>\n",
       "    </tr>\n",
       "    <tr>\n",
       "      <th>4</th>\n",
       "      <td>Hello, are there any centrally located hotels ...</td>\n",
       "      <td>Q: What is your check in time? A: Check in is ...</td>\n",
       "      <td>the check in time is 11 am Would you like to c...</td>\n",
       "    </tr>\n",
       "    <tr>\n",
       "      <th>...</th>\n",
       "      <td>...</td>\n",
       "      <td>...</td>\n",
       "      <td>...</td>\n",
       "    </tr>\n",
       "    <tr>\n",
       "      <th>1498</th>\n",
       "      <td>Please suggest me some moderately priced resta...</td>\n",
       "      <td>Q: Does Pizza Hut Cherry Hinton offer live mus...</td>\n",
       "      <td>No, Pizza Hut is not a place that offers live ...</td>\n",
       "    </tr>\n",
       "    <tr>\n",
       "      <th>1499</th>\n",
       "      <td>I would like a cheap restaurant in the south p...</td>\n",
       "      <td>Q: Are high chairs available for babies at Nan...</td>\n",
       "      <td>Yes, Nandos has high chairs available for babi...</td>\n",
       "    </tr>\n",
       "    <tr>\n",
       "      <th>1500</th>\n",
       "      <td>Hello, I am looking for an expensive restauran...</td>\n",
       "      <td>Q: Is there any outdoor seating at Cambridge L...</td>\n",
       "      <td>No, there is no outdoor seating for guests. Ca...</td>\n",
       "    </tr>\n",
       "    <tr>\n",
       "      <th>1501</th>\n",
       "      <td>I would like a cheap restaurant in the east pa...</td>\n",
       "      <td>Q: Do you have live music? A: The Missing Sock...</td>\n",
       "      <td>There is no live music at The Music Sock. Do y...</td>\n",
       "    </tr>\n",
       "    <tr>\n",
       "      <th>1502</th>\n",
       "      <td>Hello, I am looking for a cheap restaurant on ...</td>\n",
       "      <td>Q: DO you have live music? A: Nandos does not ...</td>\n",
       "      <td>No, Nandoes doesn't offer live music. Do you n...</td>\n",
       "    </tr>\n",
       "  </tbody>\n",
       "</table>\n",
       "<p>1503 rows × 3 columns</p>\n",
       "</div>"
      ],
      "text/plain": [
       "                                                Context  \\\n",
       "0     I need information on a hotel that includes fr...   \n",
       "1     Can you find a restaurant for me that is south...   \n",
       "2     I need to book a hotel.  I need it to be in th...   \n",
       "3     Hi, can you help me find an upscale restaurant...   \n",
       "4     Hello, are there any centrally located hotels ...   \n",
       "...                                                 ...   \n",
       "1498  Please suggest me some moderately priced resta...   \n",
       "1499  I would like a cheap restaurant in the south p...   \n",
       "1500  Hello, I am looking for an expensive restauran...   \n",
       "1501  I would like a cheap restaurant in the east pa...   \n",
       "1502  Hello, I am looking for a cheap restaurant on ...   \n",
       "\n",
       "                                              Knowledge  \\\n",
       "0     Q: Which credit cards do you accept for paymen...   \n",
       "1     Q: Do you have delivery? A: There is no delive...   \n",
       "2     Q: Are children allowed at your location. A: Y...   \n",
       "3     Q: What kind of security deposit do you ask fo...   \n",
       "4     Q: What is your check in time? A: Check in is ...   \n",
       "...                                                 ...   \n",
       "1498  Q: Does Pizza Hut Cherry Hinton offer live mus...   \n",
       "1499  Q: Are high chairs available for babies at Nan...   \n",
       "1500  Q: Is there any outdoor seating at Cambridge L...   \n",
       "1501  Q: Do you have live music? A: The Missing Sock...   \n",
       "1502  Q: DO you have live music? A: Nandos does not ...   \n",
       "\n",
       "                                               Response  \n",
       "0     Yes, it does accept Master card as payment? Wo...  \n",
       "1     This restaurant does not have any delivery opt...  \n",
       "2     Yes, University Arms Hotel allows children to ...  \n",
       "3     Yes. Gonville Hotel requires a deposit of GBP ...  \n",
       "4     the check in time is 11 am Would you like to c...  \n",
       "...                                                 ...  \n",
       "1498  No, Pizza Hut is not a place that offers live ...  \n",
       "1499  Yes, Nandos has high chairs available for babi...  \n",
       "1500  No, there is no outdoor seating for guests. Ca...  \n",
       "1501  There is no live music at The Music Sock. Do y...  \n",
       "1502  No, Nandoes doesn't offer live music. Do you n...  \n",
       "\n",
       "[1503 rows x 3 columns]"
      ]
     },
     "execution_count": 3,
     "metadata": {},
     "output_type": "execute_result"
    }
   ],
   "source": [
    "import pandas as pd\n",
    "\n",
    "dataset = pd.concat([train_dataset, test_dataset, validation_dataset], ignore_index=True)\n",
    "dataset"
   ]
  },
  {
   "cell_type": "code",
   "execution_count": 4,
   "metadata": {},
   "outputs": [
    {
     "data": {
      "text/plain": [
       "1503"
      ]
     },
     "execution_count": 4,
     "metadata": {},
     "output_type": "execute_result"
    }
   ],
   "source": [
    "len(dataset['Context'])"
   ]
  },
  {
   "cell_type": "code",
   "execution_count": 5,
   "metadata": {},
   "outputs": [
    {
     "data": {
      "text/plain": [
       "1503"
      ]
     },
     "execution_count": 5,
     "metadata": {},
     "output_type": "execute_result"
    }
   ],
   "source": [
    "len(dataset['Knowledge'])"
   ]
  },
  {
   "cell_type": "code",
   "execution_count": 6,
   "metadata": {},
   "outputs": [
    {
     "data": {
      "text/plain": [
       "1503"
      ]
     },
     "execution_count": 6,
     "metadata": {},
     "output_type": "execute_result"
    }
   ],
   "source": [
    "len(dataset['Response'])"
   ]
  }
 ],
 "metadata": {
  "kernelspec": {
   "display_name": "Python 3",
   "language": "python",
   "name": "python3"
  },
  "language_info": {
   "codemirror_mode": {
    "name": "ipython",
    "version": 3
   },
   "file_extension": ".py",
   "mimetype": "text/x-python",
   "name": "python",
   "nbconvert_exporter": "python",
   "pygments_lexer": "ipython3",
   "version": "3.8.8"
  }
 },
 "nbformat": 4,
 "nbformat_minor": 2
}
